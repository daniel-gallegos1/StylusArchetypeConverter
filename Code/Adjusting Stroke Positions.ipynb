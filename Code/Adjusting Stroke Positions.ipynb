{
 "cells": [
  {
   "cell_type": "markdown",
   "id": "836b74f0",
   "metadata": {},
   "source": [
    "## Note: I will begin including comments to document the code here"
   ]
  },
  {
   "cell_type": "code",
   "execution_count": 1,
   "id": "62be0d22",
   "metadata": {},
   "outputs": [],
   "source": [
    "# import numpy to work with arrays\n",
    "import numpy as np\n",
    "# import matplotlib.pyplot for plotting\n",
    "import matplotlib.pyplot as plt\n",
    "# import images subpackage for working with and plotting images\n",
    "from matplotlib import image\n",
    "# import Drawer.py file\n",
    "import Drawer\n",
    "# import mathematical functions\n",
    "import math"
   ]
  },
  {
   "cell_type": "code",
   "execution_count": 2,
   "id": "pleased-boost",
   "metadata": {},
   "outputs": [
    {
     "name": "stdout",
     "output_type": "stream",
     "text": [
      "123\n"
     ]
    }
   ],
   "source": [
    "print(123)"
   ]
  },
  {
   "cell_type": "code",
   "execution_count": 3,
   "id": "9f00ac8a",
   "metadata": {},
   "outputs": [],
   "source": [
    "# use the run() function in Drawer.py\n",
    "charData = Drawer.run()\n",
    "#print(charData)"
   ]
  },
  {
   "cell_type": "markdown",
   "id": "diagnostic-reception",
   "metadata": {},
   "source": [
    "## Normalize Image\n",
    "Black = 1, White = 0"
   ]
  },
  {
   "cell_type": "code",
   "execution_count": 4,
   "id": "74cefd47",
   "metadata": {},
   "outputs": [
    {
     "data": {
      "text/plain": [
       "<matplotlib.image.AxesImage at 0x2ce16a04190>"
      ]
     },
     "execution_count": 4,
     "metadata": {},
     "output_type": "execute_result"
    },
    {
     "data": {
      "image/png": "[encoded data removed]",
      "text/plain": [
       "<Figure size 640x480 with 1 Axes>"
      ]
     },
     "metadata": {},
     "output_type": "display_data"
    }
   ],
   "source": [
    "rawImage = image.imread('Images/tempChar.png')\n",
    "plt.imshow(rawImage)\n",
    "\n",
    "origShape = np.shape(rawImage)\n",
    "simpleImage = np.ones((origShape[0], origShape[1])) #grayscale, pixels should be black or white (1 or 0)\n",
    "\n",
    "blackMask = np.logical_or(rawImage[:,:,0]<.8, rawImage[:,:,1]<.8, rawImage[:,:,2]<.8) #white enough\n",
    "simpleImage[blackMask] = 0 #black pixels, all others are white\n",
    "\n",
    "plt.imshow(simpleImage, cmap=\"gray\")"
   ]
  },
  {
   "cell_type": "markdown",
   "id": "binding-concentrate",
   "metadata": {},
   "source": [
    "## Calculate \"gravity\" map for the image\n",
    "Each pixel should now be a vector of where that pixel is being \"pulled\"\n",
    "to calculate \"gravity\" for a *single* pixel every pixel in the image needs to be checked\n",
    "\n",
    "Each vector should be a (y,x) vector"
   ]
  },
  {
   "cell_type": "code",
   "execution_count": 5,
   "id": "understood-causing",
   "metadata": {},
   "outputs": [],
   "source": [
    "#some math needed here, but norm vector is v/|v|, where v = [diffY, diffX]\n",
    "#then magnitude should be from grav which is 1/|v|^2, so final is v * 1/(|v|^3)\n",
    "def singleGravVector(locStart, locEnd): # mass1*mass2 / d^2, let masses just be 1 each\n",
    "    diffY = locEnd[0] - locStart[0]\n",
    "    diffX = locEnd[1] - locStart[1]\n",
    "    #return np.asarray([diffY, diffX]) * 1.0/(abs(diffY)+abs(diffX))\n",
    "    return np.asarray([diffY, diffX]) * (1.0 / (math.dist([0,0], [diffY, diffX])**3) )\n",
    "\n",
    "#get vector for one particular pixel by sum of vectors\n",
    "def getPixelsVector(img, loc): #loc is y,x list\n",
    "    finalVect = np.asarray([0.0,0.0]) #start with zero, just sum all vectors up\n",
    "    \n",
    "    imgSize = np.shape(img)\n",
    "    for y in range(imgSize[0]):\n",
    "        for x in range(imgSize[1]):\n",
    "            if(img[y,x] == 0 and (y != loc[0] and x != loc[1])): #black\n",
    "                finalVect += singleGravVector(loc, [y,x]) #calculate specific vector\n",
    "            #if white pixel, no calc. needed\n",
    "    return finalVect\n",
    "\n",
    "#warning this is really slow\n",
    "def getImageGravity(img):\n",
    "    imgSize = np.shape(img)\n",
    "    gravImg = np.zeros((imgSize[0], imgSize[1], 2)) #y,x, vector_y, vector_x\n",
    "    \n",
    "    for y in range(0,imgSize[0]):\n",
    "        for x in range(0,imgSize[1]):\n",
    "            gravImg[y,x,:] = getPixelsVector(img, [y,x]) #calculate the grav vector for this pixel\n",
    "        print(\"Row\", y, \"of\", imgSize[0], \"is done.\")\n",
    "    return gravImg"
   ]
  },
  {
   "cell_type": "code",
   "execution_count": 6,
   "id": "brown-computer",
   "metadata": {},
   "outputs": [
    {
     "name": "stdout",
     "output_type": "stream",
     "text": [
      "Row 0 of 60 is done.\n",
      "Row 1 of 60 is done.\n",
      "Row 2 of 60 is done.\n",
      "Row 3 of 60 is done.\n",
      "Row 4 of 60 is done.\n",
      "Row 5 of 60 is done.\n",
      "Row 6 of 60 is done.\n",
      "Row 7 of 60 is done.\n",
      "Row 8 of 60 is done.\n",
      "Row 9 of 60 is done.\n",
      "Row 10 of 60 is done.\n",
      "Row 11 of 60 is done.\n",
      "Row 12 of 60 is done.\n",
      "Row 13 of 60 is done.\n",
      "Row 14 of 60 is done.\n",
      "Row 15 of 60 is done.\n",
      "Row 16 of 60 is done.\n",
      "Row 17 of 60 is done.\n",
      "Row 18 of 60 is done.\n",
      "Row 19 of 60 is done.\n",
      "Row 20 of 60 is done.\n",
      "Row 21 of 60 is done.\n",
      "Row 22 of 60 is done.\n",
      "Row 23 of 60 is done.\n",
      "Row 24 of 60 is done.\n",
      "Row 25 of 60 is done.\n",
      "Row 26 of 60 is done.\n",
      "Row 27 of 60 is done.\n",
      "Row 28 of 60 is done.\n",
      "Row 29 of 60 is done.\n",
      "Row 30 of 60 is done.\n",
      "Row 31 of 60 is done.\n",
      "Row 32 of 60 is done.\n",
      "Row 33 of 60 is done.\n",
      "Row 34 of 60 is done.\n",
      "Row 35 of 60 is done.\n",
      "Row 36 of 60 is done.\n",
      "Row 37 of 60 is done.\n",
      "Row 38 of 60 is done.\n",
      "Row 39 of 60 is done.\n",
      "Row 40 of 60 is done.\n",
      "Row 41 of 60 is done.\n",
      "Row 42 of 60 is done.\n",
      "Row 43 of 60 is done.\n",
      "Row 44 of 60 is done.\n",
      "Row 45 of 60 is done.\n",
      "Row 46 of 60 is done.\n",
      "Row 47 of 60 is done.\n",
      "Row 48 of 60 is done.\n",
      "Row 49 of 60 is done.\n",
      "Row 50 of 60 is done.\n",
      "Row 51 of 60 is done.\n",
      "Row 52 of 60 is done.\n",
      "Row 53 of 60 is done.\n",
      "Row 54 of 60 is done.\n",
      "Row 55 of 60 is done.\n",
      "Row 56 of 60 is done.\n",
      "Row 57 of 60 is done.\n",
      "Row 58 of 60 is done.\n",
      "Row 59 of 60 is done.\n",
      "(60, 62, 2)\n",
      "(784, 800)\n"
     ]
    }
   ],
   "source": [
    "gapDist = 13\n",
    "gravImg = getImageGravity(simpleImage[int(gapDist/2)::gapDist,int(gapDist/2)::gapDist])\n",
    "print(np.shape(gravImg))\n",
    "print(np.shape(simpleImage))"
   ]
  },
  {
   "cell_type": "code",
   "execution_count": 7,
   "id": "norwegian-vanilla",
   "metadata": {},
   "outputs": [
    {
     "data": {
      "text/plain": [
       "<matplotlib.image.AxesImage at 0x2ce1836e350>"
      ]
     },
     "execution_count": 7,
     "metadata": {},
     "output_type": "execute_result"
    },
    {
     "data": {
      "image/png": "[encoded data removed]",
      "text/plain": [
       "<Figure size 640x480 with 1 Axes>"
      ]
     },
     "metadata": {},
     "output_type": "display_data"
    }
   ],
   "source": [
    "def getImageMagn(gravImg):\n",
    "    vectImg = np.sqrt(gravImg[:,:,0]**2 + gravImg[:,:,1]**2)\n",
    "    return vectImg\n",
    "    \n",
    "vectImg = getImageMagn(gravImg)\n",
    "plt.imshow(vectImg)"
   ]
  },
  {
   "cell_type": "markdown",
   "id": "recreational-swiss",
   "metadata": {},
   "source": [
    "## Way too slow\n",
    "n^4 complexity is pretty bad, especialy when n = 800 (about 400 billion operations)\n",
    "\n",
    "different strategy, precompute alot of vector directions and magnitudes"
   ]
  },
  {
   "cell_type": "code",
   "execution_count": 8,
   "id": "driven-symposium",
   "metadata": {},
   "outputs": [],
   "source": [
    "#compute each of the vectors from 0,0, then we can reuse these values with some modification\n",
    "#should return an matrix, m, of the same size such that \n",
    "#m[y,x] = grav vector when diffY = y, diffX = x\n",
    "def preComputedGravVect(imgShape):\n",
    "    ims = imgShape\n",
    "    preVect = np.zeros((ims[0], ims[1], 2)) #y, x, [y,x] vect\n",
    "    coordY, coordX = np.meshgrid( np.arange(ims[1]) , np.arange(ims[0]) )\n",
    "    #now preVectY[y,x] = y, preVectY[y,x] = x\n",
    "    distMatr = np.sqrt(coordY**2 + coordX**2)\n",
    "    preCompDistMatr = distMatr**3 #gravity math for the vector\n",
    "    preCompDistMatr[0,0] = 1 #special case, gravity to itself is a zero vector, prevent div 0 error\n",
    "    preVect[:,:,0] = coordX / preCompDistMatr #see previous section for this math\n",
    "    preVect[:,:,1] = coordY / preCompDistMatr #see previous section for this math\n",
    "    preVect[0,0,:] = [0,0] #special case, gravity to itself is a zero vector\n",
    "    return preVect\n",
    "\n",
    "#now armed with a preComputed matrix, we can figure out the total matrix for each pixel easier\n",
    "def getImageGravity(img, jump=10): #pixWindow is how far we check for gravity in each dir\n",
    "    imgSize = np.shape(img)\n",
    "    blackPixelMask = img == 0\n",
    "    preVect = preComputedGravVect(imgSize) #limit to pixWindow, saves computation time\n",
    "    gravImg = np.zeros((imgSize[0], imgSize[1], 2)) #y,x, vector_y, vector_x\n",
    "    \n",
    "    for y in range(0,imgSize[0],jump):\n",
    "        for x in range(0,imgSize[1],jump):\n",
    "            overlay = getPreVectOverlay([y,x], preVect)\n",
    "            gravImg[y,x,0] = np.sum(overlay[:,:,0][blackPixelMask]) #sum all grav vectors for black pixels\n",
    "            gravImg[y,x,1] = np.sum(overlay[:,:,1][blackPixelMask])\n",
    "            #we need to overlay the preVect over the image shifted properly\n",
    "        print(\"Progress:\", 100*(y/imgSize[0]), \"\\b%\")\n",
    "    return gravImg\n",
    "\n",
    "#for an y,x position, get the right filter with the preComp vect\n",
    "def getPreVectOverlay(loc, preVect):\n",
    "    y, x = loc\n",
    "    yD, xD, _ = np.shape(preVect) #get y and x dimensions\n",
    "    overlayVect = np.zeros(np.shape(preVect))\n",
    "    #first quadrant, y pos, x pos\n",
    "    #at y,x we should use preVect[0,0], at y+1,x+2 use preVect[1,2]\n",
    "    overlayVect[y:,x:] = preVect[:yD-y,:xD-x] #quadrant 1, simple pos y, pos x\n",
    "    overlayVect[:y+1,:x+1] = -1*np.flip(preVect[:y+1,:x+1]) #quadrant 3, neg y, neg x (vect should be neg)\n",
    "    #quadrants 2,4 require flipping one of the vect dims\n",
    "    overlayVect[y:,:x+1, 0] = np.flip(preVect[:yD-y,:x+1,0], axis=1) #quadrant 2, pos y\n",
    "    overlayVect[y:,:x+1, 1] = -1*np.flip(preVect[:yD-y,:x+1,1], axis=1) #quadrant 2, neg x\n",
    "    overlayVect[:y+1,x:, 0] = -1*np.flip(preVect[:y+1,:xD-x,0], axis=0) #quadrant 4, neg y\n",
    "    overlayVect[:y+1,x:, 1] = np.flip(preVect[:y+1,:xD-x,1], axis=0) #quadrant 4, pos x\n",
    "\n",
    "    return overlayVect\n",
    "    "
   ]
  },
  {
   "cell_type": "code",
   "execution_count": 9,
   "id": "bacterial-revolution",
   "metadata": {
    "scrolled": false
   },
   "outputs": [
    {
     "name": "stdout",
     "output_type": "stream",
     "text": [
      "Progress: 0.0%\n",
      "Progress: 1.6666666666666667%\n",
      "Progress: 3.3333333333333335%\n",
      "Progress: 5.0%\n",
      "Progress: 6.666666666666667%\n",
      "Progress: 8.333333333333332%\n",
      "Progress: 10.0%\n",
      "Progress: 11.666666666666666%\n",
      "Progress: 13.333333333333334%\n",
      "Progress: 15.0%\n",
      "Progress: 16.666666666666664%\n",
      "Progress: 18.333333333333332%\n",
      "Progress: 20.0%\n",
      "Progress: 21.666666666666668%\n",
      "Progress: 23.333333333333332%\n",
      "Progress: 25.0%\n",
      "Progress: 26.666666666666668%\n",
      "Progress: 28.333333333333332%\n",
      "Progress: 30.0%\n",
      "Progress: 31.666666666666664%\n",
      "Progress: 33.33333333333333%\n",
      "Progress: 35.0%\n",
      "Progress: 36.666666666666664%\n",
      "Progress: 38.333333333333336%\n",
      "Progress: 40.0%\n",
      "Progress: 41.66666666666667%\n",
      "Progress: 43.333333333333336%\n",
      "Progress: 45.0%\n",
      "Progress: 46.666666666666664%\n",
      "Progress: 48.333333333333336%\n",
      "Progress: 50.0%\n",
      "Progress: 51.66666666666667%\n",
      "Progress: 53.333333333333336%\n",
      "Progress: 55.00000000000001%\n",
      "Progress: 56.666666666666664%\n",
      "Progress: 58.333333333333336%\n",
      "Progress: 60.0%\n",
      "Progress: 61.66666666666667%\n",
      "Progress: 63.33333333333333%\n",
      "Progress: 65.0%\n",
      "Progress: 66.66666666666666%\n",
      "Progress: 68.33333333333333%\n",
      "Progress: 70.0%\n",
      "Progress: 71.66666666666667%\n",
      "Progress: 73.33333333333333%\n",
      "Progress: 75.0%\n",
      "Progress: 76.66666666666667%\n",
      "Progress: 78.33333333333333%\n",
      "Progress: 80.0%\n",
      "Progress: 81.66666666666667%\n",
      "Progress: 83.33333333333334%\n",
      "Progress: 85.0%\n",
      "Progress: 86.66666666666667%\n",
      "Progress: 88.33333333333333%\n",
      "Progress: 90.0%\n",
      "Progress: 91.66666666666666%\n",
      "Progress: 93.33333333333333%\n",
      "Progress: 95.0%\n",
      "Progress: 96.66666666666667%\n",
      "Progress: 98.33333333333333%\n"
     ]
    },
    {
     "data": {
      "text/plain": [
       "<matplotlib.image.AxesImage at 0x2ce18375f50>"
      ]
     },
     "execution_count": 9,
     "metadata": {},
     "output_type": "execute_result"
    },
    {
     "data": {
      "image/png": "[encoded data removed]",
      "text/plain": [
       "<Figure size 640x480 with 1 Axes>"
      ]
     },
     "metadata": {},
     "output_type": "display_data"
    }
   ],
   "source": [
    "jump = 10\n",
    "gravImg = getImageGravity(simpleImage[100:700,100:700], jump=jump)\n",
    "finalImg = getImageMagn(gravImg)\n",
    "plt.imshow(finalImg[::jump,::jump])"
   ]
  },
  {
   "cell_type": "markdown",
   "id": "marine-accent",
   "metadata": {},
   "source": [
    "## Decompose vectors\n",
    "For each gravity vector, we need to break it down into the (normal?) and (tangent?) vectors, one is used to decide the movement of the vector the other rotation (but not sure if we'll use that)\n",
    "\n",
    "Suppose we know \n",
    "\n",
    "Center of mass: $c = [c_y, c_x]$\n",
    "\n",
    "Point we calculate gravity for $p = [p_y, p_x]$\n",
    "\n",
    "Gravity vector $g = [g_y, g_x]$\n",
    "\n",
    "Then we can determine:\n",
    "\n",
    "The basic normal vector (we'll determine magnitude shortly): $n_b = c - p$\n",
    "\n",
    "Actual normal vector: $n = \\frac{n_b g}{\\vert n_b \\vert} n_b$\n",
    "\n",
    "Tangent vector: $t = g - n$"
   ]
  },
  {
   "cell_type": "code",
   "execution_count": 10,
   "id": "accepted-honduras",
   "metadata": {},
   "outputs": [],
   "source": [
    "def decomposeVect(c, p, gravV): #center and curr position, then vector\n",
    "    c = np.array(c)\n",
    "    p = np.array(p)\n",
    "    nb = c - p\n",
    "    n =  (nb[0]*g[0] + nb[1]*g[1])/(np.sqrt(coordY**2 + coordX**2))"
   ]
  }
 ],
 "metadata": {
  "kernelspec": {
   "display_name": "Python 3 (ipykernel)",
   "language": "python",
   "name": "python3"
  },
  "language_info": {
   "codemirror_mode": {
    "name": "ipython",
    "version": 3
   },
   "file_extension": ".py",
   "mimetype": "text/x-python",
   "name": "python",
   "nbconvert_exporter": "python",
   "pygments_lexer": "ipython3",
   "version": "3.11.5"
  }
 },
 "nbformat": 4,
 "nbformat_minor": 5
}
